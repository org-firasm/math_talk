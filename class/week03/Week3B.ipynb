{
 "cells": [
  {
   "cell_type": "markdown",
   "id": "aab8826e-874b-4bf6-8788-0c2223bd3628",
   "metadata": {},
   "source": [
    "# Areas between curves\n",
    "**([Syllabus Unit 3](https://canvas.ubc.ca/courses/92840/syllabus) | [CLP2 Chapter 1.5](https://personal.math.ubc.ca/~CLP/CLP2/))**\n",
    "\n"
   ]
  },
  {
   "cell_type": "code",
   "execution_count": 175,
   "id": "558d7381-b951-4611-9d85-6d445fbd7d52",
   "metadata": {
    "tags": [
     "remove-input"
    ]
   },
   "outputs": [],
   "source": [
    "## Sympy stuff\n",
    "from sympy import *\n",
    "x = symbols('x')\n",
    "y = symbols('y')"
   ]
  },
  {
   "cell_type": "markdown",
   "id": "67a3915f-3a38-4d2d-9800-d1b5c8153ce2",
   "metadata": {},
   "source": [
    "## Introduction\n",
    "\n",
    "### Area under a curve\n",
    "\n",
    "**Recall**: If $f$ is integrable and $f \\geq 0$ on the interval $[a,b]$,\n",
    "\n",
    "\\begin{align}\n",
    "\\int_{a}^{b}f(x) dx= A,\n",
    "\\end{align}\n",
    "\n",
    "this Area $A$, lies above $y=0$ and below $y=f(x)$, in the vertical strip $a\\le x\\le b.$\n",
    "\n",
    "<img src=\"images/curve_introA.png\">"
   ]
  },
  {
   "cell_type": "markdown",
   "id": "e134d71b-b30c-4e6a-9de5-4b18d7f31b9f",
   "metadata": {},
   "source": [
    "### General case: area between two curves\n",
    "\n",
    "**Today**: Extend this to a more general situation, replacing the $x$-axis ($y=0$) with a general lower boundary $y=g(x)$. Setting $g(x)=0$ will recapture the original definition.\n",
    "\n",
    "<img src=\"images/curve_introB.png\">"
   ]
  },
  {
   "cell_type": "markdown",
   "id": "3d0cbf46-244d-4605-87a2-6d76d2e0e4cf",
   "metadata": {},
   "source": [
    "### Leibniz-style shorthand: \n",
    "\n",
    "$A = \\int\\!dA$, with $dA = (f(x)-g(x))\\,dx$ over $a\\leq x\\leq b$."
   ]
  },
  {
   "cell_type": "markdown",
   "id": "6863cec1-9bec-4811-8094-989559dae2d0",
   "metadata": {},
   "source": [
    "## An intuitive description"
   ]
  },
  {
   "cell_type": "markdown",
   "id": "4e304c2a-b438-493b-b215-abfb4cd0756b",
   "metadata": {},
   "source": [
    "Activity: https://www.geogebra.org/m/y6p3qybd\n",
    "\n",
    "Other option: https://www.geogebra.org/m/QvhVvGZP"
   ]
  },
  {
   "cell_type": "markdown",
   "id": "57784f96-59e1-403a-822b-fe1b05491794",
   "metadata": {},
   "source": [
    "## Motivation for caring\n",
    "\n",
    "- https://xaktly.com/AreaBetweenCurves.html\n",
    "- https://math.hws.edu/~mitchell/Math131F15/tufte-latex/BetwCurves2.pdf"
   ]
  },
  {
   "cell_type": "markdown",
   "id": "146b1bbe-86ee-449c-a249-f24bf957cc4e",
   "metadata": {},
   "source": [
    "## Consideration 1: Does it matter which function is greater?"
   ]
  },
  {
   "cell_type": "markdown",
   "id": "21a89e4a-f2e4-46fd-bf22-dabd2814324c",
   "metadata": {
    "slideshow": {
     "slide_type": "subslide"
    },
    "tags": []
   },
   "source": [
    "### Example I.1\n",
    "\n",
    "```{admonition} Example I.1\n",
    ":class: seealso\n",
    "Compute the finite area between the curves $f(x)= x+2$ and $g(x)=x-2$ from $x=0$ to $x=3$.\n",
    "\n",
    "<img src=\"images/curve0.png\" class=\"center\" width=100%>\n",
    "```\n",
    "\n",
    "<img src=\"images/curve0.png\" class=\"center\" width=100%>\n",
    "\n",
    "\n"
   ]
  },
  {
   "cell_type": "code",
   "execution_count": 138,
   "id": "38944d0e-116b-4c88-a3d0-bacdcb4eae0e",
   "metadata": {},
   "outputs": [],
   "source": [
    "f = x+2\n",
    "g = x-2\n",
    "\n",
    "a = 0 # Lower x-limit in the domain of interest\n",
    "b = 3 # Upper x-limit in the domain of interest"
   ]
  },
  {
   "cell_type": "code",
   "execution_count": 139,
   "id": "4a0fef8c-90cc-4058-bc4b-4bbe6d60a507",
   "metadata": {},
   "outputs": [
    {
     "data": {
      "text/latex": [
       "$\\displaystyle \\frac{x^{2}}{2} + 2 x$"
      ],
      "text/plain": [
       "x**2/2 + 2*x"
      ]
     },
     "execution_count": 139,
     "metadata": {},
     "output_type": "execute_result"
    }
   ],
   "source": [
    "integrate(f)"
   ]
  },
  {
   "cell_type": "code",
   "execution_count": 140,
   "id": "b3beaffc-c106-4e0d-ad01-2ef0715c905d",
   "metadata": {},
   "outputs": [
    {
     "data": {
      "text/latex": [
       "$\\displaystyle \\frac{x^{2}}{2} - 2 x$"
      ],
      "text/plain": [
       "x**2/2 - 2*x"
      ]
     },
     "execution_count": 140,
     "metadata": {},
     "output_type": "execute_result"
    }
   ],
   "source": [
    "integrate(g)"
   ]
  },
  {
   "cell_type": "code",
   "execution_count": 141,
   "id": "ccb450d9-eb1b-4541-b836-52e8e5c9c9ed",
   "metadata": {},
   "outputs": [
    {
     "data": {
      "text/latex": [
       "$\\displaystyle 4 x$"
      ],
      "text/plain": [
       "4*x"
      ]
     },
     "execution_count": 141,
     "metadata": {},
     "output_type": "execute_result"
    }
   ],
   "source": [
    "integrate(f) - integrate(g) # integrate f(x) - g(x)"
   ]
  },
  {
   "cell_type": "code",
   "execution_count": 142,
   "id": "2ca8e31e-4d4f-42c2-8f71-5c7f7f6b8a86",
   "metadata": {},
   "outputs": [
    {
     "data": {
      "text/latex": [
       "$\\displaystyle 4 x$"
      ],
      "text/plain": [
       "4*x"
      ]
     },
     "execution_count": 142,
     "metadata": {},
     "output_type": "execute_result"
    }
   ],
   "source": [
    "integrate(f-g,x) # Note, this gives the same answer as above!"
   ]
  },
  {
   "cell_type": "code",
   "execution_count": 143,
   "id": "0350955e-d5b3-440c-979d-92477acce200",
   "metadata": {},
   "outputs": [
    {
     "data": {
      "text/latex": [
       "$\\displaystyle \\frac{21}{2}$"
      ],
      "text/plain": [
       "21/2"
      ]
     },
     "execution_count": 143,
     "metadata": {},
     "output_type": "execute_result"
    }
   ],
   "source": [
    "integrate(f,(x,0,3)) # integrate f(x) with x ranging from 0 to 3"
   ]
  },
  {
   "cell_type": "code",
   "execution_count": 144,
   "id": "1d94de85-a070-4787-ad6f-daed340751e4",
   "metadata": {},
   "outputs": [
    {
     "data": {
      "text/latex": [
       "$\\displaystyle - \\frac{3}{2}$"
      ],
      "text/plain": [
       "-3/2"
      ]
     },
     "execution_count": 144,
     "metadata": {},
     "output_type": "execute_result"
    }
   ],
   "source": [
    "integrate(g,(x,0,3)) # integrate g(x) with x ranging from 0 to 3"
   ]
  },
  {
   "cell_type": "code",
   "execution_count": 145,
   "id": "a9a6d07f-0763-4027-b3e4-6da11de8b096",
   "metadata": {},
   "outputs": [],
   "source": [
    "# Final answer\n",
    "\n",
    "A_1 = integrate(f,(x,0,3)) - integrate(g,(x,0,3))"
   ]
  },
  {
   "cell_type": "markdown",
   "id": "0c00484b-2c21-4595-87ff-8f09af0aa120",
   "metadata": {},
   "source": [
    "The Area between $f(x) = x+2$ and $g(x) = x-2$ , between x=0 and x=3 is:"
   ]
  },
  {
   "cell_type": "code",
   "execution_count": 146,
   "id": "540b5783-76d2-407a-8d50-ae609c6d29f0",
   "metadata": {
    "tags": [
     "hide-input"
    ]
   },
   "outputs": [
    {
     "data": {
      "text/latex": [
       "$\\displaystyle 12$"
      ],
      "text/plain": [
       "12"
      ]
     },
     "execution_count": 146,
     "metadata": {},
     "output_type": "execute_result"
    }
   ],
   "source": [
    "A_1"
   ]
  },
  {
   "cell_type": "markdown",
   "id": "ac33ac15-87d0-41b7-92e1-ee040965a207",
   "metadata": {},
   "source": [
    "## Consideration 2: Solving problems where the functions intersect.\n",
    "\n",
    "What if the curves $y=f(x)$ and $y=g(x)$ cross somewhere in the given interval?\n",
    "\n",
    "*Hint*: Remember that “area” is always a positive quantity!"
   ]
  },
  {
   "cell_type": "markdown",
   "id": "1fb69b57-8a6f-4b29-917f-285861715da3",
   "metadata": {
    "tags": []
   },
   "source": [
    "### Example I.2A\n",
    "\n",
    "```{admonition} Example I.2A\n",
    ":class: seealso\n",
    "Compute the finite area between where the curves $f(x)= x+2$ and $g(x)=x^2-4$ intersect.\n",
    "\n",
    "<img src=\"images/curve2v2.png\" class=\"center\" width=100%>\n",
    "```\n",
    "\n",
    "<img src=\"images/curve2v2.png\" class=\"center\" width=100%>\n",
    "\n"
   ]
  },
  {
   "cell_type": "code",
   "execution_count": 166,
   "id": "d5d0f809-73bc-45f9-8f26-ea4758c58e70",
   "metadata": {},
   "outputs": [],
   "source": [
    "f = x + 2\n",
    "g = x**2 - 4\n",
    "\n",
    "# a and b are currently unknown! We must set f = g and solve to figure out the roots."
   ]
  },
  {
   "cell_type": "code",
   "execution_count": 168,
   "id": "ff8a0ae3-fee6-40f6-b656-f39466d8fde4",
   "metadata": {},
   "outputs": [
    {
     "data": {
      "text/latex": [
       "$\\displaystyle -2$"
      ],
      "text/plain": [
       "-2"
      ]
     },
     "metadata": {},
     "output_type": "display_data"
    },
    {
     "data": {
      "text/latex": [
       "$\\displaystyle 3$"
      ],
      "text/plain": [
       "3"
      ]
     },
     "metadata": {},
     "output_type": "display_data"
    }
   ],
   "source": [
    "a,b = solve(f-g)\n",
    "display(a,b)"
   ]
  },
  {
   "cell_type": "code",
   "execution_count": 152,
   "id": "ca248539-0319-4268-8d01-5a692196bba8",
   "metadata": {},
   "outputs": [
    {
     "data": {
      "text/latex": [
       "$\\displaystyle \\frac{x^{2}}{2} + 2 x$"
      ],
      "text/plain": [
       "x**2/2 + 2*x"
      ]
     },
     "execution_count": 152,
     "metadata": {},
     "output_type": "execute_result"
    }
   ],
   "source": [
    "integrate(f)"
   ]
  },
  {
   "cell_type": "code",
   "execution_count": 153,
   "id": "f18717d5-7bfd-4bbf-989f-945ed02ec0e7",
   "metadata": {},
   "outputs": [
    {
     "data": {
      "text/latex": [
       "$\\displaystyle \\frac{x^{3}}{3} - 4 x$"
      ],
      "text/plain": [
       "x**3/3 - 4*x"
      ]
     },
     "execution_count": 153,
     "metadata": {},
     "output_type": "execute_result"
    }
   ],
   "source": [
    "integrate(g)"
   ]
  },
  {
   "cell_type": "code",
   "execution_count": 154,
   "id": "af14c966-f0af-4f34-8abf-a78fba8603a4",
   "metadata": {},
   "outputs": [
    {
     "data": {
      "text/latex": [
       "$\\displaystyle \\frac{25}{2}$"
      ],
      "text/plain": [
       "25/2"
      ]
     },
     "execution_count": 154,
     "metadata": {},
     "output_type": "execute_result"
    }
   ],
   "source": [
    "integrate(f,(x,a,b))"
   ]
  },
  {
   "cell_type": "code",
   "execution_count": 155,
   "id": "8445cb73-e050-486d-b4d3-39f8fdfded13",
   "metadata": {},
   "outputs": [
    {
     "data": {
      "text/latex": [
       "$\\displaystyle - \\frac{25}{3}$"
      ],
      "text/plain": [
       "-25/3"
      ]
     },
     "execution_count": 155,
     "metadata": {},
     "output_type": "execute_result"
    }
   ],
   "source": [
    "integrate(g,(x,a,b))"
   ]
  },
  {
   "cell_type": "code",
   "execution_count": 158,
   "id": "183ddb74-f8f0-4ad2-ad9d-1110eb75a741",
   "metadata": {},
   "outputs": [],
   "source": [
    "# Final answer\n",
    "\n",
    "A_2 = integrate(f,(x,a,b)) - integrate(g,(x,a,b))"
   ]
  },
  {
   "cell_type": "markdown",
   "id": "956c0474-43a9-4367-84b9-3d3b2c920d05",
   "metadata": {},
   "source": [
    "The area between $x + 2$ and $x^2 - 4$ between $x=-2$ and $x=4$:"
   ]
  },
  {
   "cell_type": "code",
   "execution_count": 159,
   "id": "6da8f0b0-5859-439e-8852-0f139a08c4c2",
   "metadata": {
    "tags": [
     "hide-input"
    ]
   },
   "outputs": [
    {
     "data": {
      "text/latex": [
       "$\\displaystyle \\frac{125}{6}$"
      ],
      "text/plain": [
       "125/6"
      ]
     },
     "execution_count": 159,
     "metadata": {},
     "output_type": "execute_result"
    }
   ],
   "source": [
    "A_2"
   ]
  },
  {
   "cell_type": "markdown",
   "id": "4ba43c14-cbd2-4fcf-9816-7952e7feb78e",
   "metadata": {},
   "source": [
    "## Consideration 3: What if the functions cross, and the \"greater function\" changes?"
   ]
  },
  {
   "cell_type": "markdown",
   "id": "f2333f1b-1217-4cd5-871a-4a4537d0821d",
   "metadata": {},
   "source": [
    "### Example I.2B\n",
    "\n",
    "```{admonition} Example I.1\n",
    ":class: seealso\n",
    "Compute the finite area between the curves $f(x)= x+2$ and $g(x)=x^2-4$ between $x=-2$ and $x=4$.\n",
    "\n",
    "<img src=\"images/curve2bv2.png\" class=\"center\" width=100%>\n",
    "```\n",
    "\n",
    "<img src=\"images/curve2bv2.png\" class=\"center\" width=100%>"
   ]
  },
  {
   "cell_type": "markdown",
   "id": "e9bbd190-aeac-4cb3-bcc1-6721e2d358e9",
   "metadata": {},
   "source": [
    "Notice that we have already computed the area between $f(x)$ and $g(x)$ between $x=-2$ and $x=3$, we called that $A_2$.\n",
    "\n",
    "To find the area between $f(x)$ and $g(x)$ between $x=-2$ and $x=4$, we first notice that we need to split our integral into two:\n",
    "\n",
    "1. Integral between $x=-2$ and $x=3$ (where $f(x)$ is greater):\n",
    "\n",
    "$$\n",
    "A_{3a} = \\int_{-2}^{+3} [f(x) - g(x)]dx = A_2\n",
    "$$\n",
    "\n",
    "and\n",
    "\n",
    "2. Integral between $x=3$ and $x=4$ (where $g(x)$ is greater):\n",
    "\n",
    "$$\n",
    "A_{3b} = \\int_{3}^{4} [g(x) - f(x)]dx\n",
    "$$\n",
    "\n",
    "The combined integral is then:\n",
    "\n",
    "$$\n",
    "A_3 = A_{3a} + A_{3b}\n",
    "$$"
   ]
  },
  {
   "cell_type": "code",
   "execution_count": 160,
   "id": "4d8a9719-c36f-41de-922d-df65614f5284",
   "metadata": {},
   "outputs": [],
   "source": [
    "# Final answer\n",
    "\n",
    "a = 3\n",
    "b = 4\n",
    "\n",
    "A_3 = A_2 + integrate(f,(x,a,b)) - integrate(g,(x,a,b))"
   ]
  },
  {
   "cell_type": "markdown",
   "id": "933c277f-d0ad-4a54-935c-af39d6b0db63",
   "metadata": {},
   "source": [
    "The area between $x + 2$ and $x^2 - 4$ between $x=-2$ and $x=4$:"
   ]
  },
  {
   "cell_type": "code",
   "execution_count": 162,
   "id": "5c6e3ed0-99e5-49e3-98b0-219933743faf",
   "metadata": {
    "tags": [
     "hide-input"
    ]
   },
   "outputs": [
    {
     "data": {
      "text/latex": [
       "$\\displaystyle 18$"
      ],
      "text/plain": [
       "18"
      ]
     },
     "execution_count": 162,
     "metadata": {},
     "output_type": "execute_result"
    }
   ],
   "source": [
    "A_3"
   ]
  },
  {
   "cell_type": "markdown",
   "id": "c622b96d-af12-48c2-888f-4c9a6a4cb6d4",
   "metadata": {},
   "source": [
    "## Consideration 4: Should we integrate over $x$, or over $y$?"
   ]
  },
  {
   "cell_type": "markdown",
   "id": "771f1f09-fc5f-43c8-b332-a571a8c3fb2e",
   "metadata": {
    "tags": []
   },
   "source": [
    "When the upper or lower boundary curve has a piecewise definition, creative geometry-inspired thinking can offer an efficient new approach. Here is an example:\n",
    "\n",
    "### Example I.3\n",
    "\n",
    "```{admonition} Example I.1\n",
    ":class: seealso\n",
    "Find the finite area between the curves $y^2= 4x$ and $4x-3y=4$.\n",
    "\n",
    "<img src=\"images/curve1v2.png\" class=\"center\" width=100%>\n",
    "```\n",
    "<img src=\"images/curve1v2.png\" class=\"center\" width=100%>"
   ]
  },
  {
   "cell_type": "markdown",
   "id": "441346b2-9633-40c0-848d-50c774a4aac7",
   "metadata": {},
   "source": [
    "\n",
    "First, we need to re-write $y^2= 4x$ as $f(x)$, and and $4x-3y=4$ as $g(x)$.\n",
    "\n",
    "With a bit of algebra,\n",
    "\n",
    "$$\n",
    "f(x) = \\sqrt{4x}\n",
    "$$\n",
    "$$\n",
    "g(x) = \\frac{4(x-1)}{3}\n",
    "$$"
   ]
  },
  {
   "cell_type": "markdown",
   "id": "a2d43211-87cc-4c13-8258-3f84a1892f6e",
   "metadata": {},
   "source": [
    "So let's figure out $a$ and $b$ using the same strategy we used earlier, set $f(x) = g(x)$ and solve it:"
   ]
  },
  {
   "cell_type": "code",
   "execution_count": 170,
   "id": "3688af62-f5b4-42e1-ba18-420a5fb84f6a",
   "metadata": {},
   "outputs": [
    {
     "data": {
      "text/latex": [
       "$\\displaystyle 0.25$"
      ],
      "text/plain": [
       "0.250000000000000"
      ]
     },
     "metadata": {},
     "output_type": "display_data"
    },
    {
     "data": {
      "text/latex": [
       "$\\displaystyle 4.0$"
      ],
      "text/plain": [
       "4.00000000000000"
      ]
     },
     "metadata": {},
     "output_type": "display_data"
    }
   ],
   "source": [
    "f = sqrt(4*x)     # Let's call the top half of the parabola +f and the bottom half -f\n",
    "g = (4/3) * (x-1)\n",
    "\n",
    "a = solve((-f)-g)[0]\n",
    "b = solve((+f)-g)[0]\n",
    "\n",
    "display(a,b)"
   ]
  },
  {
   "cell_type": "markdown",
   "id": "66f67c12-2315-42a5-8155-f757d4489cb2",
   "metadata": {},
   "source": [
    "### Option 1: Integrate over x (the long way)\n",
    "\n",
    "We can continue doing what we've done so far and integrate over $x$ with vertical rectangles.\n",
    "\n",
    "<img src=\"images/curve1v2_vertical.png\">\n",
    "\n"
   ]
  },
  {
   "cell_type": "markdown",
   "id": "b4d4db81-b636-49a4-9298-554e7c5c6011",
   "metadata": {},
   "source": [
    "First, we need to setup the limits of our integral. Note that there is something a bit tricky here when we go to determine the \"greater\" and \"lower\" curves.\n",
    "\n",
    "- Between $x=0$ and the point $x=0.25$ ($a$), where $f(x)$ and $g(x)$ first intersect, the \"greater\" curve is the upper half of the parabola $f(x) = +\\sqrt{4x}$, and the \"lower\" curve is the lower half of the parabola $f(x) = -\\sqrt{4x}$.\n",
    "\n",
    "- Between $x=0.25$ ($a$) and the second point of intersection $x=4$ ($b$), the \"greater\" curve is the upper half of the parabola $f(x)$, and the \"lower\" curve is $g(x)$.\n",
    "\n",
    "So we need to split up our integral in two parts:\n",
    "\n",
    "$$\n",
    "A_4 = A_{4A} + A_{4B}\n",
    "$$\n",
    "$$\n",
    "A_4 = \\int_0^{a} (g(x)-f(x))dx + \\int_a^{b} (f(x) - g(x))dx\n",
    "$$"
   ]
  },
  {
   "cell_type": "code",
   "execution_count": 171,
   "id": "bf2a71fe-8b89-41e3-99e4-ea293dfa8a47",
   "metadata": {},
   "outputs": [
    {
     "data": {
      "text/latex": [
       "$\\displaystyle 0.333333333333333$"
      ],
      "text/plain": [
       "0.333333333333333"
      ]
     },
     "execution_count": 171,
     "metadata": {},
     "output_type": "execute_result"
    }
   ],
   "source": [
    "A_4A = integrate(f--f,(x,0,a))\n",
    "A_4A"
   ]
  },
  {
   "cell_type": "code",
   "execution_count": 172,
   "id": "e0d1a337-0a2d-4e1f-b54f-743050849c93",
   "metadata": {},
   "outputs": [
    {
     "data": {
      "text/latex": [
       "$\\displaystyle 4.875$"
      ],
      "text/plain": [
       "4.87500000000000"
      ]
     },
     "execution_count": 172,
     "metadata": {},
     "output_type": "execute_result"
    }
   ],
   "source": [
    "A_4B = integrate(f-g,(x,a,b))\n",
    "A_4B"
   ]
  },
  {
   "cell_type": "code",
   "execution_count": 173,
   "id": "9c1ebb6a-9ea9-4a71-9267-3f12b3a73472",
   "metadata": {},
   "outputs": [
    {
     "name": "stdout",
     "output_type": "stream",
     "text": [
      "The Area between f(x) and g(x) is:\n"
     ]
    },
    {
     "data": {
      "text/latex": [
       "$\\displaystyle 5.20833333333333$"
      ],
      "text/plain": [
       "5.20833333333333"
      ]
     },
     "execution_count": 173,
     "metadata": {},
     "output_type": "execute_result"
    }
   ],
   "source": [
    "A4 = A_4A + A_4B\n",
    "\n",
    "print(f\"The Area between f(x) and g(x) is:\")\n",
    "A4"
   ]
  },
  {
   "cell_type": "markdown",
   "id": "9a02740a-633c-4223-afc6-f5f264b4c0e7",
   "metadata": {},
   "source": [
    "or, equivalently,\n",
    "\n",
    "$$\n",
    "\\frac{125}{24}.\n",
    "$$"
   ]
  },
  {
   "cell_type": "markdown",
   "id": "8749ffc9-2756-429b-8fe8-eb3f3883d331",
   "metadata": {},
   "source": [
    "Phew! This was a bit painful, is there a faster way?"
   ]
  },
  {
   "cell_type": "markdown",
   "id": "e9b28ac4-6175-41bb-86b9-ccd58c1b5c8c",
   "metadata": {},
   "source": [
    "## Option 2: Integrate over $y$ (the quick way!)"
   ]
  },
  {
   "cell_type": "markdown",
   "id": "8aa9bb00-c8e5-4bb6-84fb-f36052b20fb3",
   "metadata": {},
   "source": [
    "Looking at the sketch, it looks like we can also integrate over $y$, with horizontal rectangles.\n",
    "\n",
    "<img src=\"images/curve1v2_horiz.png\">"
   ]
  },
  {
   "cell_type": "markdown",
   "id": "60754e21-0f77-4687-b58e-5eaad5e2cf3f",
   "metadata": {},
   "source": [
    "The advantage of integrating over $y$, is that our integral is quite simple, because the parabola $f(x)$ is greater than $g(x)$ within our domain of interest ($x=0.25$ and $x=4$).\n",
    "\n",
    "With a bit of algebra, we can rearrange $f(x)$ and $g(x)$ to write $f(y)$ and $g(y)$:\n",
    "\n",
    "$$\n",
    "f(y) = \\frac{y^2}{4}\n",
    "$$\n",
    "\n",
    "and,\n",
    "\n",
    "$$\n",
    "g(y) = \\frac{3y}{4} + 1.\n",
    "$$"
   ]
  },
  {
   "cell_type": "markdown",
   "id": "6f12f3da-d720-420f-b9ff-5f0739d51c62",
   "metadata": {},
   "source": [
    "Since we are interested in the area between $f(x)$ and $g(x)$, the curves are bounded by the $(x,y)$ points $(a,c)$ on the left, and $(b,d)$ on the right.\n",
    "We already know $a$ and $b$, what remains is to determine $c$ and $d$, the $y$-coordinates at the intersection points."
   ]
  },
  {
   "cell_type": "markdown",
   "id": "c250d370-c9ea-4142-948d-a00527a213ec",
   "metadata": {},
   "source": [
    "We're in luck so we can use either function to determine the corresponding $y$-values $c$ and $d$.\n",
    "\n",
    "Let's use $g(x)$:\n",
    "\n",
    "$$\n",
    "g(x) = \\frac{4(x-1)}{3}.\n",
    "$$\n",
    "\n",
    "Substituting in $a=0.25$ on the left side,\n",
    "$$\n",
    "c = g(0.25) = \\frac{4(0.25-1)}{3} + 1\n",
    "$$\n",
    "\n",
    "we get $c = -1."
   ]
  },
  {
   "cell_type": "markdown",
   "id": "c78645bc-d23b-4aa6-9598-9caa204fc597",
   "metadata": {},
   "source": [
    "On the right side,\n",
    "\n",
    "$$\n",
    "d = g(b)\n",
    "$$\n",
    "\n",
    "Substituting in $b=4$,\n",
    "$$\n",
    "d = \\frac{4(4-1)}{3}\n",
    "$$\n",
    "\n",
    "we get $d = 4$."
   ]
  },
  {
   "cell_type": "markdown",
   "id": "657fb713-323b-4680-aeb6-9879b9ee0009",
   "metadata": {},
   "source": [
    "Now that we have the limits of the $y$-integration, we can complete the integral:\n",
    "\n",
    "$$\n",
    "\\int_{c=-1}^{d=4} (f(y) - g(y)) dy\n",
    "$$"
   ]
  },
  {
   "cell_type": "code",
   "execution_count": 174,
   "id": "ae329218-3d31-4237-9241-c313f83d94ec",
   "metadata": {},
   "outputs": [
    {
     "data": {
      "text/latex": [
       "$\\displaystyle \\frac{125}{24}$"
      ],
      "text/plain": [
       "125/24"
      ]
     },
     "execution_count": 174,
     "metadata": {},
     "output_type": "execute_result"
    }
   ],
   "source": [
    "c = -1\n",
    "d = 4\n",
    "\n",
    "f_y = y**2/4\n",
    "g_y = 3*y/4 + 1\n",
    "\n",
    "integrate(g_y-f_y,(y,c,d))"
   ]
  },
  {
   "cell_type": "markdown",
   "id": "8bbfaef8-17f2-4b13-95a4-539f77f7b92a",
   "metadata": {},
   "source": [
    "Great! As expceted, it's the same answer as we got if we integrated over $x$ instead of $y$.\n",
    "A little bit less painful, but required a bit of foresight and a good sketch of the functions!"
   ]
  },
  {
   "cell_type": "markdown",
   "id": "0bd8f6e2-f408-44fa-bcd7-837a2fc7e86f",
   "metadata": {},
   "source": [
    "Let's update our Strategy one last time..."
   ]
  },
  {
   "cell_type": "markdown",
   "id": "0d56d236-60f4-4d0b-ac7c-d4f190cdf213",
   "metadata": {},
   "source": [
    "## You Try!\n",
    "\n",
    "Your post-class activity is to solve this problem. \n",
    "\n",
    "### Example I.4\n",
    "\n",
    "```{admonition} Example I.2\n",
    ":class: seealso\n",
    "Find the area of the region bounded by the curves $y=\\sin x$, $y=\\cos x$, $x=0$, and $x=\\pi /2$.\n",
    "\n",
    "<img src=\"images/curve3v3.png\" class=\"center\" width=100%>\n",
    "```\n",
    "\n",
    "<img src=\"images/curve3v3.png\" class=\"center\" width=100%>\n",
    "\n",
    "![image.png](images/curve3v3.png)\n",
    "\n",
    "*Hint, the answer is not 0!*"
   ]
  },
  {
   "cell_type": "markdown",
   "id": "dc2ef8ac-4b01-4371-9199-f27256dee663",
   "metadata": {},
   "source": [
    "## Summary"
   ]
  },
  {
   "cell_type": "markdown",
   "id": "d5d5e878-c6d7-48dc-a8c3-bb222d4cfed8",
   "metadata": {},
   "source": [
    "Here is the final strategy that we created together to solve area between curve problems.\n",
    "\n",
    "*Note: You will need to add or revise this strategy as you learn more skills and tricks, and become more familiar with teh mechanics of doing integrals!*"
   ]
  },
  {
   "cell_type": "markdown",
   "id": "b7799316-471c-43bf-8d95-93b1a8fae967",
   "metadata": {},
   "source": [
    "Thanks for your time and attention today!\n",
    "\n",
    "- Dr. Moosvi"
   ]
  }
 ],
 "metadata": {
  "kernelspec": {
   "display_name": "Python 3 (ipykernel)",
   "language": "python",
   "name": "python3"
  },
  "language_info": {
   "codemirror_mode": {
    "name": "ipython",
    "version": 3
   },
   "file_extension": ".py",
   "mimetype": "text/x-python",
   "name": "python",
   "nbconvert_exporter": "python",
   "pygments_lexer": "ipython3",
   "version": "3.9.7"
  }
 },
 "nbformat": 4,
 "nbformat_minor": 5
}
