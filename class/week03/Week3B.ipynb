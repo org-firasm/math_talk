{
 "cells": [
  {
   "cell_type": "code",
   "execution_count": 1,
   "id": "558d7381-b951-4611-9d85-6d445fbd7d52",
   "metadata": {
    "slideshow": {
     "slide_type": "skip"
    },
    "tags": [
     "remove-input"
    ]
   },
   "outputs": [],
   "source": [
    "## Sympy stuff\n",
    "\n",
    "from sympy import *\n",
    "x = symbols('x')\n",
    "y = symbols('y')"
   ]
  },
  {
   "cell_type": "markdown",
   "id": "9febccd9-8df3-4cd5-80fd-0f2034003144",
   "metadata": {
    "slideshow": {
     "slide_type": "skip"
    },
    "tags": []
   },
   "source": [
    "<div class=\"page_break\"> </div>"
   ]
  },
  {
   "cell_type": "markdown",
   "id": "aab8826e-874b-4bf6-8788-0c2223bd3628",
   "metadata": {
    "slideshow": {
     "slide_type": "slide"
    }
   },
   "source": [
    "# Areas between curves\n",
    "**([Syllabus Unit 3](https://canvas.ubc.ca/courses/92840/syllabus) | [CLP2 Chapter 1.5](https://personal.math.ubc.ca/~CLP/CLP2/))**\n",
    "\n"
   ]
  },
  {
   "cell_type": "markdown",
   "id": "76c47547-323f-414a-aec4-01d10b817926",
   "metadata": {
    "slideshow": {
     "slide_type": "fragment"
    }
   },
   "source": [
    "## Introduction\n",
    "\n",
    "### About Me\n",
    "\n",
    "[<img src=\"images/firas_profile.png\" width=100%>](https://firas.moosvi.com)\n"
   ]
  },
  {
   "cell_type": "markdown",
   "id": "984b2939-ede0-4a4f-aead-d14f9e20c4cf",
   "metadata": {
    "slideshow": {
     "slide_type": "fragment"
    }
   },
   "source": [
    "### Announcements\n",
    "\n",
    "- HW03 is now open"
   ]
  },
  {
   "cell_type": "markdown",
   "id": "54fb77f0-8946-4782-8822-1edcd3a7a119",
   "metadata": {
    "slideshow": {
     "slide_type": "skip"
    }
   },
   "source": [
    "<div class=\"page_break\"> </div>"
   ]
  },
  {
   "cell_type": "markdown",
   "id": "196ac163-1854-4d6e-9210-d33726284cfa",
   "metadata": {
    "slideshow": {
     "slide_type": "slide"
    }
   },
   "source": [
    "### Area under a curve\n",
    "\n",
    "**Recall**: If $f$ is integrable and $f \\geq 0$ on the interval $[a,b]$,\n",
    "\n",
    "\\begin{align}\n",
    "\\int_{a}^{b}f(x) dx= A,\n",
    "\\end{align}\n",
    "\n",
    "this Area $A$, lies above $y=0$ and below $y=f(x)$, in the vertical strip $a\\le x\\le b.$\n",
    "\n",
    "<img src=\"images/curve_introA.png\" width=\"70%\">"
   ]
  },
  {
   "cell_type": "markdown",
   "id": "e134d71b-b30c-4e6a-9de5-4b18d7f31b9f",
   "metadata": {
    "slideshow": {
     "slide_type": "subslide"
    }
   },
   "source": [
    "### General case: area between two curves\n",
    "\n",
    "**Today**: We can extend this to a more general situation by replacing the $x$-axis ($y=0$) with a general lower boundary $y=g(x)$. \n",
    "\n",
    "<img src=\"images/curve_introB.png\" width=\"70%\">\n",
    "\n",
    "*Note: Setting $g(x)=0$ will recapture the original definition.*"
   ]
  },
  {
   "cell_type": "markdown",
   "id": "3d0cbf46-244d-4605-87a2-6d76d2e0e4cf",
   "metadata": {
    "slideshow": {
     "slide_type": "fragment"
    }
   },
   "source": [
    "### Leibniz-style shorthand: \n",
    "\n",
    "$A = \\int\\!dA$, with $dA = (f(x)-g(x))\\,dx$ over $a\\leq x\\leq b$."
   ]
  },
  {
   "cell_type": "markdown",
   "id": "b1eaca54-378c-4d05-a890-51d379140bf5",
   "metadata": {
    "slideshow": {
     "slide_type": "skip"
    },
    "tags": []
   },
   "source": [
    "<div class=\"page_break\"> </div>"
   ]
  },
  {
   "cell_type": "markdown",
   "id": "6863cec1-9bec-4811-8094-989559dae2d0",
   "metadata": {
    "slideshow": {
     "slide_type": "slide"
    },
    "tags": []
   },
   "source": [
    "## An intuitive description"
   ]
  },
  {
   "cell_type": "code",
   "execution_count": 2,
   "id": "dfabcfac-7cb3-4d7d-bca7-01cd779ecfa7",
   "metadata": {
    "slideshow": {
     "slide_type": "fragment"
    },
    "tags": [
     "remove-input"
    ]
   },
   "outputs": [
    {
     "data": {
      "text/html": [
       "<iframe scrolling=\"no\" title=\"Area Between Two Curves\" src=\"https://www.geogebra.org/material/iframe/id/y6p3qybd/width/1680/height/885/border/888888/sfsb/true/smb/false/stb/false/stbh/false/ai/false/asb/false/sri/false/rc/false/ld/false/sdz/true/ctl/false\" width=\"100%\" height=\"800px\" style=\"border:0px;\"> </iframe>\n"
      ],
      "text/plain": [
       "<IPython.core.display.HTML object>"
      ]
     },
     "metadata": {},
     "output_type": "display_data"
    }
   ],
   "source": [
    "%%html\n",
    "<iframe scrolling=\"no\" title=\"Area Between Two Curves\" src=\"https://www.geogebra.org/material/iframe/id/y6p3qybd/width/1680/height/885/border/888888/sfsb/true/smb/false/stb/false/stbh/false/ai/false/asb/false/sri/false/rc/false/ld/false/sdz/true/ctl/false\" width=\"100%\" height=\"800px\" style=\"border:0px;\"> </iframe>"
   ]
  },
  {
   "cell_type": "markdown",
   "id": "2c7596f4-d908-4c00-913e-4ccf91a9c4e7",
   "metadata": {
    "slideshow": {
     "slide_type": "skip"
    },
    "tags": []
   },
   "source": [
    "<div class=\"page_break\"> </div>"
   ]
  },
  {
   "cell_type": "markdown",
   "id": "065de662-ad23-44e5-9f1c-f289f02a8b00",
   "metadata": {
    "slideshow": {
     "slide_type": "slide"
    }
   },
   "source": [
    "## Motivation\n",
    "\n",
    "- Often when we're in school, and going through the rigours of daily life, we lose sight of the bigger picture, the important things in life.\n",
    "- Things like social justice, fighting for equity, righting the wrongs of the world, and making the world a better place.\n",
    "- That is why, I take every opportunity to make connections between what we're doing in class, and the real world.\n",
    "- Before we get into the mechanics of computing areas between curves, let's look at this practical example."
   ]
  },
  {
   "cell_type": "markdown",
   "id": "578658ad-6703-459f-8ef8-26120317fdac",
   "metadata": {
    "slideshow": {
     "slide_type": "subslide"
    }
   },
   "source": [
    "<img src=\"images/gini.png\">\n",
    "\n",
    "[Source: Our World in Data](https://ourworldindata.org/income-inequality#the-gini-coefficient)"
   ]
  },
  {
   "cell_type": "markdown",
   "id": "bd8de14a-c868-4989-aef0-687e3b0c566a",
   "metadata": {
    "slideshow": {
     "slide_type": "fragment"
    }
   },
   "source": [
    "### Additional Reading\n",
    "\n",
    "- [Applications of Area Between Curves, Section 6.5](https://math.hws.edu/~mitchell/Math131F15/tufte-latex/BetwCurves2.pdf)"
   ]
  },
  {
   "cell_type": "markdown",
   "id": "a2b89bfd-c10e-4ad2-890c-2dfafc88a1ed",
   "metadata": {
    "slideshow": {
     "slide_type": "skip"
    },
    "tags": []
   },
   "source": [
    "<div class=\"page_break\"> </div>"
   ]
  },
  {
   "cell_type": "markdown",
   "id": "fd15aee7-7f91-4a1f-bcc9-d86863c863e0",
   "metadata": {
    "slideshow": {
     "slide_type": "slide"
    }
   },
   "source": [
    "## Computing Area under two curves"
   ]
  },
  {
   "cell_type": "markdown",
   "id": "21a89e4a-f2e4-46fd-bf22-dabd2814324c",
   "metadata": {
    "slideshow": {
     "slide_type": "subslide"
    },
    "tags": []
   },
   "source": [
    "### Example I.1\n",
    "\n",
    "```{admonition} Example I.1\n",
    ":class: seealso\n",
    "Compute the finite area between the curves $f(x)= x+2$ and $g(x)=x-2$ from $x=0$ to $x=3$.\n",
    "\n",
    "<img src=\"images/curve0.png\" class=\"center\" width=100%>\n",
    "```"
   ]
  },
  {
   "cell_type": "markdown",
   "id": "9b68e2dd-e59f-435a-99cb-cb92e6be9679",
   "metadata": {
    "slideshow": {
     "slide_type": "subslide"
    }
   },
   "source": [
    "```{admonition} Strategy\n",
    ":class: tip\n",
    "1. Given $f(x)$ and $g(x)$, integrate $f(x) - g(x)$ from $x=a$ to $x=b$ to determine the area between the curves, $A$.\n",
    "\n",
    "    $$\n",
    "    A = \\int_a^b f(x) - g(x) dx\n",
    "    $$\n",
    "```"
   ]
  },
  {
   "cell_type": "code",
   "execution_count": 7,
   "id": "38944d0e-116b-4c88-a3d0-bacdcb4eae0e",
   "metadata": {
    "slideshow": {
     "slide_type": "fragment"
    }
   },
   "outputs": [],
   "source": [
    "f = x+2\n",
    "g = x-2\n",
    "\n",
    "a = 0 # Lower x-limit in the domain of interest\n",
    "b = 3 # Upper x-limit in the domain of interest"
   ]
  },
  {
   "cell_type": "code",
   "execution_count": 8,
   "id": "4a0fef8c-90cc-4058-bc4b-4bbe6d60a507",
   "metadata": {
    "slideshow": {
     "slide_type": "fragment"
    }
   },
   "outputs": [
    {
     "data": {
      "text/latex": [
       "$\\displaystyle \\frac{x^{2}}{2} + 2 x$"
      ],
      "text/plain": [
       "x**2/2 + 2*x"
      ]
     },
     "execution_count": 8,
     "metadata": {},
     "output_type": "execute_result"
    }
   ],
   "source": [
    "integrate(f)"
   ]
  },
  {
   "cell_type": "code",
   "execution_count": 10,
   "id": "b3beaffc-c106-4e0d-ad01-2ef0715c905d",
   "metadata": {
    "slideshow": {
     "slide_type": "fragment"
    }
   },
   "outputs": [
    {
     "data": {
      "text/latex": [
       "$\\displaystyle \\frac{x^{2}}{2} - 2 x$"
      ],
      "text/plain": [
       "x**2/2 - 2*x"
      ]
     },
     "execution_count": 10,
     "metadata": {},
     "output_type": "execute_result"
    }
   ],
   "source": [
    "integrate(g)"
   ]
  },
  {
   "cell_type": "code",
   "execution_count": 11,
   "id": "ccb450d9-eb1b-4541-b836-52e8e5c9c9ed",
   "metadata": {
    "slideshow": {
     "slide_type": "fragment"
    }
   },
   "outputs": [
    {
     "data": {
      "text/latex": [
       "$\\displaystyle 4 x$"
      ],
      "text/plain": [
       "4*x"
      ]
     },
     "execution_count": 11,
     "metadata": {},
     "output_type": "execute_result"
    }
   ],
   "source": [
    "integrate(f) - integrate(g) # integrate f(x) - g(x)"
   ]
  },
  {
   "cell_type": "code",
   "execution_count": 13,
   "id": "2ca8e31e-4d4f-42c2-8f71-5c7f7f6b8a86",
   "metadata": {
    "slideshow": {
     "slide_type": "fragment"
    }
   },
   "outputs": [
    {
     "data": {
      "text/latex": [
       "$\\displaystyle 4 x$"
      ],
      "text/plain": [
       "4*x"
      ]
     },
     "execution_count": 13,
     "metadata": {},
     "output_type": "execute_result"
    }
   ],
   "source": [
    "integrate(f-g,x) # Note, this gives the same answer as above!"
   ]
  },
  {
   "cell_type": "code",
   "execution_count": 14,
   "id": "0350955e-d5b3-440c-979d-92477acce200",
   "metadata": {
    "slideshow": {
     "slide_type": "fragment"
    }
   },
   "outputs": [
    {
     "data": {
      "text/latex": [
       "$\\displaystyle \\frac{21}{2}$"
      ],
      "text/plain": [
       "21/2"
      ]
     },
     "execution_count": 14,
     "metadata": {},
     "output_type": "execute_result"
    }
   ],
   "source": [
    "integrate(f,(x,0,3)) # integrate f(x) with x ranging from 0 to 3"
   ]
  },
  {
   "cell_type": "code",
   "execution_count": 16,
   "id": "1d94de85-a070-4787-ad6f-daed340751e4",
   "metadata": {
    "slideshow": {
     "slide_type": "fragment"
    }
   },
   "outputs": [
    {
     "data": {
      "text/latex": [
       "$\\displaystyle - \\frac{3}{2}$"
      ],
      "text/plain": [
       "-3/2"
      ]
     },
     "execution_count": 16,
     "metadata": {},
     "output_type": "execute_result"
    }
   ],
   "source": [
    "integrate(g,(x,0,3)) # integrate g(x) with x ranging from 0 to 3"
   ]
  },
  {
   "cell_type": "code",
   "execution_count": 17,
   "id": "a9a6d07f-0763-4027-b3e4-6da11de8b096",
   "metadata": {
    "slideshow": {
     "slide_type": "fragment"
    }
   },
   "outputs": [],
   "source": [
    "# Final answer\n",
    "\n",
    "A_1 = integrate(f,(x,0,3)) - integrate(g,(x,0,3))"
   ]
  },
  {
   "cell_type": "markdown",
   "id": "0c00484b-2c21-4595-87ff-8f09af0aa120",
   "metadata": {
    "slideshow": {
     "slide_type": "fragment"
    }
   },
   "source": [
    "The Area between $f(x) = x+2$ and $g(x) = x-2$ , between x=0 and x=3 is:"
   ]
  },
  {
   "cell_type": "code",
   "execution_count": 16,
   "id": "540b5783-76d2-407a-8d50-ae609c6d29f0",
   "metadata": {
    "slideshow": {
     "slide_type": "fragment"
    },
    "tags": [
     "hide-output",
     "remove-input"
    ]
   },
   "outputs": [
    {
     "data": {
      "text/latex": [
       "$\\displaystyle 12$"
      ],
      "text/plain": [
       "12"
      ]
     },
     "execution_count": 16,
     "metadata": {},
     "output_type": "execute_result"
    }
   ],
   "source": [
    "A_1"
   ]
  },
  {
   "cell_type": "markdown",
   "id": "0a17651f-acd0-425f-a578-b523a19b6ca1",
   "metadata": {
    "slideshow": {
     "slide_type": "skip"
    },
    "tags": []
   },
   "source": [
    "<div class=\"page_break\"> </div>"
   ]
  },
  {
   "cell_type": "markdown",
   "id": "146b1bbe-86ee-449c-a249-f24bf957cc4e",
   "metadata": {
    "slideshow": {
     "slide_type": "slide"
    },
    "tags": []
   },
   "source": [
    "## Consideration 1: Does it matter which function is greater?"
   ]
  },
  {
   "cell_type": "markdown",
   "id": "052a9650-c234-4084-b230-d0aad7589978",
   "metadata": {
    "slideshow": {
     "slide_type": "fragment"
    }
   },
   "source": [
    "```{admonition} Example I.1\n",
    ":class: seealso\n",
    "Compute the finite area between the curves $f(x)= x+2$ and $g(x)=x-2$ from $x=0$ to $x=3$.\n",
    "\n",
    "<img src=\"images/curve0.png\" class=\"center\" width=100%>\n",
    "```"
   ]
  },
  {
   "cell_type": "markdown",
   "id": "f7d2b92c-d4bb-4fe0-83d3-ae5f8489cbe3",
   "metadata": {
    "slideshow": {
     "slide_type": "subslide"
    }
   },
   "source": [
    "In the previous example, what if we had gotten the order wrong, and done\n",
    "\n",
    "$$\n",
    "A = \\int_a^b g(x) - f(x) dx\n",
    "$$\n",
    "\n",
    "instead?"
   ]
  },
  {
   "cell_type": "code",
   "execution_count": 18,
   "id": "59f109be-41fd-473a-b6c2-1bd670d61784",
   "metadata": {
    "slideshow": {
     "slide_type": "fragment"
    }
   },
   "outputs": [
    {
     "data": {
      "text/latex": [
       "$\\displaystyle -12$"
      ],
      "text/plain": [
       "-12"
      ]
     },
     "execution_count": 18,
     "metadata": {},
     "output_type": "execute_result"
    }
   ],
   "source": [
    "integrate(g,(x,0,3)) - integrate(f,(x,0,3))"
   ]
  },
  {
   "cell_type": "markdown",
   "id": "0c97c8d6-9c55-49dc-84b6-88bbcfc33e5a",
   "metadata": {
    "slideshow": {
     "slide_type": "fragment"
    }
   },
   "source": [
    "Interesting! It seems that if we get the order wrong, our answer will be negative.\n",
    "\n",
    "Intuitively, this makes sense. By convention, we will require that areas in the first quadrant (top-right of an $x-y$ axes) will be **positive**."
   ]
  },
  {
   "cell_type": "markdown",
   "id": "d81dcf52-807b-4340-b3ef-90773d1f75e8",
   "metadata": {
    "slideshow": {
     "slide_type": "subslide"
    }
   },
   "source": [
    "Let's update our strategy given what we just discovered:\n",
    "\n",
    "```{admonition} Strategy\n",
    ":class: tip\n",
    "1. **Given $f(x)$ and $g(x)$, determine which function is greater.**\n",
    "\n",
    "2. **Then, assuming $f(x)$ is greater**, integrate $f(x) - g(x)$ from $x=a$ to $x=b$ to determine the area between the curves, $A$.\n",
    "\n",
    "    $$\n",
    "    A = \\int_a^b f(x) - g(x) dx\n",
    "    $$\n",
    "```"
   ]
  },
  {
   "cell_type": "markdown",
   "id": "ac33ac15-87d0-41b7-92e1-ee040965a207",
   "metadata": {
    "slideshow": {
     "slide_type": "slide"
    }
   },
   "source": [
    "## Consideration 2: Solving problems where the functions intersect.\n",
    "\n",
    "What if the curves $y=f(x)$ and $y=g(x)$ cross somewhere in the given interval?\n",
    "\n",
    "*Hint*: Remember that “area” is always a positive quantity!"
   ]
  },
  {
   "cell_type": "markdown",
   "id": "1fb69b57-8a6f-4b29-917f-285861715da3",
   "metadata": {
    "slideshow": {
     "slide_type": "fragment"
    },
    "tags": []
   },
   "source": [
    "### Example I.2A\n",
    "\n",
    "```{admonition} Example I.2A\n",
    ":class: seealso\n",
    "Compute the finite area between where the curves $f(x)= x+2$ and $g(x)=x^2-4$ intersect.\n",
    "\n",
    "<img src=\"images/curve2v2.png\" class=\"center\" width=100%>\n",
    "```"
   ]
  },
  {
   "cell_type": "code",
   "execution_count": 18,
   "id": "d5d0f809-73bc-45f9-8f26-ea4758c58e70",
   "metadata": {
    "slideshow": {
     "slide_type": "fragment"
    }
   },
   "outputs": [],
   "source": [
    "f = x + 2\n",
    "g = x**2 - 4\n",
    "\n",
    "# a and b are currently unknown! We must set f = g and solve to figure out the roots."
   ]
  },
  {
   "cell_type": "code",
   "execution_count": 19,
   "id": "ff8a0ae3-fee6-40f6-b656-f39466d8fde4",
   "metadata": {
    "slideshow": {
     "slide_type": "fragment"
    }
   },
   "outputs": [
    {
     "data": {
      "text/latex": [
       "$\\displaystyle -2$"
      ],
      "text/plain": [
       "-2"
      ]
     },
     "metadata": {},
     "output_type": "display_data"
    },
    {
     "data": {
      "text/latex": [
       "$\\displaystyle 3$"
      ],
      "text/plain": [
       "3"
      ]
     },
     "metadata": {},
     "output_type": "display_data"
    }
   ],
   "source": [
    "a,b = solve(f-g)\n",
    "display(a,b)"
   ]
  },
  {
   "cell_type": "code",
   "execution_count": 20,
   "id": "ca248539-0319-4268-8d01-5a692196bba8",
   "metadata": {
    "slideshow": {
     "slide_type": "fragment"
    }
   },
   "outputs": [
    {
     "data": {
      "text/latex": [
       "$\\displaystyle \\frac{x^{2}}{2} + 2 x$"
      ],
      "text/plain": [
       "x**2/2 + 2*x"
      ]
     },
     "execution_count": 20,
     "metadata": {},
     "output_type": "execute_result"
    }
   ],
   "source": [
    "integrate(f)"
   ]
  },
  {
   "cell_type": "code",
   "execution_count": 21,
   "id": "f18717d5-7bfd-4bbf-989f-945ed02ec0e7",
   "metadata": {
    "slideshow": {
     "slide_type": "fragment"
    }
   },
   "outputs": [
    {
     "data": {
      "text/latex": [
       "$\\displaystyle \\frac{x^{3}}{3} - 4 x$"
      ],
      "text/plain": [
       "x**3/3 - 4*x"
      ]
     },
     "execution_count": 21,
     "metadata": {},
     "output_type": "execute_result"
    }
   ],
   "source": [
    "integrate(g)"
   ]
  },
  {
   "cell_type": "code",
   "execution_count": 22,
   "id": "af14c966-f0af-4f34-8abf-a78fba8603a4",
   "metadata": {
    "slideshow": {
     "slide_type": "fragment"
    }
   },
   "outputs": [
    {
     "data": {
      "text/latex": [
       "$\\displaystyle \\frac{25}{2}$"
      ],
      "text/plain": [
       "25/2"
      ]
     },
     "execution_count": 22,
     "metadata": {},
     "output_type": "execute_result"
    }
   ],
   "source": [
    "integrate(f,(x,a,b))"
   ]
  },
  {
   "cell_type": "code",
   "execution_count": 23,
   "id": "8445cb73-e050-486d-b4d3-39f8fdfded13",
   "metadata": {
    "slideshow": {
     "slide_type": "fragment"
    }
   },
   "outputs": [
    {
     "data": {
      "text/latex": [
       "$\\displaystyle - \\frac{25}{3}$"
      ],
      "text/plain": [
       "-25/3"
      ]
     },
     "execution_count": 23,
     "metadata": {},
     "output_type": "execute_result"
    }
   ],
   "source": [
    "integrate(g,(x,a,b))"
   ]
  },
  {
   "cell_type": "code",
   "execution_count": 24,
   "id": "183ddb74-f8f0-4ad2-ad9d-1110eb75a741",
   "metadata": {
    "slideshow": {
     "slide_type": "fragment"
    }
   },
   "outputs": [],
   "source": [
    "# Final answer\n",
    "\n",
    "A_2 = integrate(f,(x,a,b)) - integrate(g,(x,a,b))"
   ]
  },
  {
   "cell_type": "markdown",
   "id": "956c0474-43a9-4367-84b9-3d3b2c920d05",
   "metadata": {
    "slideshow": {
     "slide_type": "fragment"
    }
   },
   "source": [
    "The area between $x + 2$ and $x^2 - 4$ between $x=-2$ and $x=4$:"
   ]
  },
  {
   "cell_type": "code",
   "execution_count": 25,
   "id": "6da8f0b0-5859-439e-8852-0f139a08c4c2",
   "metadata": {
    "slideshow": {
     "slide_type": "fragment"
    },
    "tags": [
     "remove-input",
     "hide-output"
    ]
   },
   "outputs": [
    {
     "data": {
      "text/latex": [
       "$\\displaystyle \\frac{125}{6}$"
      ],
      "text/plain": [
       "125/6"
      ]
     },
     "execution_count": 25,
     "metadata": {},
     "output_type": "execute_result"
    }
   ],
   "source": [
    "A_2"
   ]
  },
  {
   "cell_type": "markdown",
   "id": "90d6789d-4abd-49ca-8072-92a5035b1696",
   "metadata": {
    "slideshow": {
     "slide_type": "subslide"
    }
   },
   "source": [
    "Let's update our strategy given what we just discovered:\n",
    "\n",
    "```{admonition} Strategy\n",
    ":class: tip\n",
    "\n",
    "1. **Roughly sketch the curves $f(x)$ and $g(x)$.**\n",
    "\n",
    "2. **Determine the domain of interest; usually by setting $f(x) = g(x)$ and solving for the roots. Though, other operations may be needed as well depending on the question.**\n",
    "\n",
    "3. Given $f(x)$ and $g(x)$, determine which function is greater **within the domain of interest**.\n",
    "\n",
    "4. Then, assuming $f(x)$ is greater, integrate $f(x) - g(x)$ from $x=a$ to $x=b$ to determine the area between the curves, $A$.\n",
    "\n",
    "    $$\n",
    "    A = \\int_a^b f(x) - g(x) dx\n",
    "    $$\n",
    "```"
   ]
  },
  {
   "cell_type": "markdown",
   "id": "ea21da9f-b33b-414c-9694-2bcf429f176e",
   "metadata": {
    "slideshow": {
     "slide_type": "skip"
    },
    "tags": []
   },
   "source": [
    "<div class=\"page_break\"> </div>"
   ]
  },
  {
   "cell_type": "markdown",
   "id": "4ba43c14-cbd2-4fcf-9816-7952e7feb78e",
   "metadata": {
    "slideshow": {
     "slide_type": "slide"
    }
   },
   "source": [
    "## Consideration 3: What if the functions cross, and the \"greater function\" changes?"
   ]
  },
  {
   "cell_type": "markdown",
   "id": "f2333f1b-1217-4cd5-871a-4a4537d0821d",
   "metadata": {
    "slideshow": {
     "slide_type": "fragment"
    }
   },
   "source": [
    "### Example I.2B\n",
    "\n",
    "```{admonition} Example I.1\n",
    ":class: seealso\n",
    "Compute the finite area between the curves $f(x)= x+2$ and $g(x)=x^2-4$ between $x=-2$ and $x=4$.\n",
    "\n",
    "<img src=\"images/curve2bv2.png\" class=\"center\" width=100%>\n",
    "```"
   ]
  },
  {
   "cell_type": "markdown",
   "id": "e9bbd190-aeac-4cb3-bcc1-6721e2d358e9",
   "metadata": {
    "slideshow": {
     "slide_type": "fragment"
    }
   },
   "source": [
    "Notice that we have already computed the area between $f(x)$ and $g(x)$ between $x=-2$ and $x=3$, we called that $A_2$.\n",
    "\n",
    "To find the area between $f(x)$ and $g(x)$ between $x=-2$ and $x=4$, we first notice that we need to split our integral into two pieces:\n",
    "\n",
    "1. Integral between $x=-2$ and $x=3$ (where $f(x)$ is greater):\n",
    "\n",
    "$$\n",
    "A_{3a} = \\int_{-2}^{+3} [f(x) - g(x)]dx = A_2\n",
    "$$\n",
    "\n",
    "**and (added to)**\n",
    "\n",
    "2. Integral between $x=3$ and $x=4$ (where $g(x)$ is greater):\n",
    "\n",
    "$$\n",
    "A_{3b} = \\int_{3}^{4} [g(x) - f(x)]dx\n",
    "$$\n",
    "\n",
    "The combined integral is then:\n",
    "\n",
    "$$\n",
    "A_3 = A_{3a} + A_{3b}\n",
    "$$"
   ]
  },
  {
   "cell_type": "code",
   "execution_count": 26,
   "id": "4d8a9719-c36f-41de-922d-df65614f5284",
   "metadata": {
    "slideshow": {
     "slide_type": "fragment"
    },
    "tags": []
   },
   "outputs": [],
   "source": [
    "# Final answer\n",
    "\n",
    "a = 3\n",
    "b = 4\n",
    "\n",
    "A_3 = A_2 + integrate(f,(x,a,b)) - integrate(g,(x,a,b))"
   ]
  },
  {
   "cell_type": "markdown",
   "id": "933c277f-d0ad-4a54-935c-af39d6b0db63",
   "metadata": {
    "slideshow": {
     "slide_type": "fragment"
    }
   },
   "source": [
    "The area between $x + 2$ and $x^2 - 4$ between $x=-2$ and $x=4$:"
   ]
  },
  {
   "cell_type": "code",
   "execution_count": 27,
   "id": "5c6e3ed0-99e5-49e3-98b0-219933743faf",
   "metadata": {
    "slideshow": {
     "slide_type": "fragment"
    },
    "tags": [
     "hide-output",
     "remove-input"
    ]
   },
   "outputs": [
    {
     "data": {
      "text/latex": [
       "$\\displaystyle 18$"
      ],
      "text/plain": [
       "18"
      ]
     },
     "execution_count": 27,
     "metadata": {},
     "output_type": "execute_result"
    }
   ],
   "source": [
    "A_3"
   ]
  },
  {
   "cell_type": "markdown",
   "id": "a2473802-4fe7-4c84-9b40-14a03a0d069e",
   "metadata": {
    "slideshow": {
     "slide_type": "subslide"
    }
   },
   "source": [
    "Let's update our strategy given what we just discovered:\n",
    "\n",
    "```{admonition} Strategy\n",
    ":class: tip\n",
    "\n",
    "1. Roughly sketch the curves $f(x)$ and $g(x)$.\n",
    "\n",
    "2. Determine the domain of interest; usually by setting $f(x) = g(x)$ and solving for the roots. Though, other operations may be needed as well depending on the question.\n",
    "\n",
    "3. Given $f(x)$ and $g(x)$, determine which function is greater within the domain(s) of interest. **If the curves cross, split the integral so each segment is considered separately.**\n",
    "\n",
    "4. **Region 1: Assuming $f(x)$ is greater in region 1, integrate $f(x) - g(x)$ from $x=a$ to $x=b$.**\n",
    "\n",
    "    $$\n",
    "    A_1 = \\int_a^b f(x) - g(x) dx\n",
    "    $$\n",
    "\n",
    "5. **Region 2: If there are one or more function crosses, there will be multiple segments to integrate. Now, $g(x)$ will be greater in region 2, so determine $A_2$:**\n",
    "\n",
    "    $$\n",
    "    A_2 = \\int_c^d g(x) - f(x) dx\n",
    "    $$\n",
    "\n",
    "6. **Compute integrals of each segment and after after each cross. Add all the area segments together:**\n",
    "\n",
    "    $$\n",
    "    A_{total} = A_1 + A_2 +... A_N\n",
    "    $$\n",
    "```"
   ]
  },
  {
   "cell_type": "markdown",
   "id": "81fcbeb6-f6a1-42a7-acd1-e9eee4e2e256",
   "metadata": {
    "slideshow": {
     "slide_type": "skip"
    },
    "tags": []
   },
   "source": [
    "<div class=\"page_break\"> </div>"
   ]
  },
  {
   "cell_type": "markdown",
   "id": "c622b96d-af12-48c2-888f-4c9a6a4cb6d4",
   "metadata": {
    "slideshow": {
     "slide_type": "slide"
    }
   },
   "source": [
    "## Consideration 4: Should we integrate over $x$, or over $y$?"
   ]
  },
  {
   "cell_type": "markdown",
   "id": "771f1f09-fc5f-43c8-b332-a571a8c3fb2e",
   "metadata": {
    "slideshow": {
     "slide_type": "fragment"
    },
    "tags": []
   },
   "source": [
    "When the upper or lower boundary curve has a piecewise definition, creative geometry-inspired thinking can offer an efficient new approach. Here is an example:\n",
    "\n",
    "### Example I.3\n",
    "\n",
    "```{admonition} Example I.1\n",
    ":class: seealso\n",
    "Find the finite area between the curves $y^2= 4x$ and $4x-3y=4$.\n",
    "\n",
    "<img src=\"images/curve1v2.png\" class=\"center\" width=100%>\n",
    "```"
   ]
  },
  {
   "cell_type": "markdown",
   "id": "441346b2-9633-40c0-848d-50c774a4aac7",
   "metadata": {
    "slideshow": {
     "slide_type": "fragment"
    }
   },
   "source": [
    "First, we need to re-write $y^2= 4x$ as $f(x)$, and and $4x-3y=4$ as $g(x)$.\n",
    "\n",
    "With a bit of algebra,\n",
    "\n",
    "$$\n",
    "f(x) = \\sqrt{4x}\n",
    "$$\n",
    "$$\n",
    "g(x) = \\frac{4(x-1)}{3}\n",
    "$$"
   ]
  },
  {
   "cell_type": "markdown",
   "id": "a2d43211-87cc-4c13-8258-3f84a1892f6e",
   "metadata": {
    "slideshow": {
     "slide_type": "fragment"
    }
   },
   "source": [
    "So let's figure out $a$ and $b$ using the same strategy we used earlier, set $f(x) = g(x)$ and solve for the roots:"
   ]
  },
  {
   "cell_type": "code",
   "execution_count": 28,
   "id": "d057bce2-1db1-428a-894a-e797b1d20f6c",
   "metadata": {
    "slideshow": {
     "slide_type": "fragment"
    }
   },
   "outputs": [],
   "source": [
    "f = sqrt(4*x)     # Let's call the top half of the parabola +f and the bottom half -f\n",
    "g = (4/3) * (x-1)\n",
    "\n",
    "a = solve((-f)-g)[0]\n",
    "b = solve((+f)-g)[0]"
   ]
  },
  {
   "cell_type": "code",
   "execution_count": 29,
   "id": "b3fba173-c6bd-4aeb-a528-d9b95a4c4402",
   "metadata": {
    "slideshow": {
     "slide_type": "fragment"
    },
    "tags": [
     "hide-output",
     "remove-input"
    ]
   },
   "outputs": [
    {
     "name": "stdout",
     "output_type": "stream",
     "text": [
      "a = 0.25\n",
      "b = 4\n"
     ]
    }
   ],
   "source": [
    "print(f\"a = {a:.2f}\\nb = {b:.0f}\")"
   ]
  },
  {
   "cell_type": "markdown",
   "id": "a77ded03",
   "metadata": {
    "slideshow": {
     "slide_type": "subslide"
    }
   },
   "source": [
    "Now, we have two options.\n",
    "\n",
    "- We can integrate over $x$ with vertical rectangles of width $dx$.\n",
    "\n",
    "Or, \n",
    "\n",
    "- We can integrate over $y$ with horizontal rectangles of height $dy$."
   ]
  },
  {
   "cell_type": "markdown",
   "id": "0d4c944f-3eb5-418b-ae4f-5543bcea49bd",
   "metadata": {
    "slideshow": {
     "slide_type": "skip"
    },
    "tags": []
   },
   "source": [
    "<div class=\"page_break\"> </div>"
   ]
  },
  {
   "cell_type": "markdown",
   "id": "66f67c12-2315-42a5-8155-f757d4489cb2",
   "metadata": {
    "slideshow": {
     "slide_type": "subslide"
    }
   },
   "source": [
    "### Option 1: Integrate over x (the long way)\n",
    "\n",
    "We can continue doing what we've done so far and integrate over $x$ with vertical rectangles.\n",
    "\n",
    "<img src=\"images/curve1v2_vertical.png\">\n",
    "\n"
   ]
  },
  {
   "cell_type": "markdown",
   "id": "b4d4db81-b636-49a4-9298-554e7c5c6011",
   "metadata": {
    "slideshow": {
     "slide_type": "fragment"
    }
   },
   "source": [
    "First, we need to setup the limits of our integral. Note that there is something a bit tricky here when we go to determine the \"greater\" and \"lower\" curves.\n",
    "\n",
    "- Between $x=0$ and the point $x=0.25$ ($a$), where $f(x)$ and $g(x)$ first intersect, the \"greater\" curve is the upper half of the parabola $f(x) = +\\sqrt{4x}$, and the \"lower\" curve is the lower half of the parabola $f(x) = -\\sqrt{4x}$.\n",
    "\n",
    "- Between $x=0.25$ ($a$) and the second point of intersection $x=4$ ($b$), the \"greater\" curve is the upper half of the parabola $f(x)$, and the \"lower\" curve is $g(x)$.\n",
    "\n",
    "So we need to split up our integral in two parts:\n",
    "\n",
    "\\begin{align}\n",
    "A_{4x} = A_{4A} + A_{4B}\\\\\n",
    "A_{4x} = \\int_0^{a} (g(x)-f(x))dx + \\int_a^{b} (f(x) - g(x))dx\n",
    "\\end{align}"
   ]
  },
  {
   "cell_type": "code",
   "execution_count": 30,
   "id": "618c1dd9-d3e3-4dc1-a0b8-7634b31ace7b",
   "metadata": {
    "slideshow": {
     "slide_type": "fragment"
    }
   },
   "outputs": [],
   "source": [
    "A_4A = integrate(f--f,(x,0,a))"
   ]
  },
  {
   "cell_type": "code",
   "execution_count": 31,
   "id": "94c29f24-cc3e-4f0a-ba28-8a3b366b3ddd",
   "metadata": {
    "slideshow": {
     "slide_type": "fragment"
    },
    "tags": [
     "hide-output"
    ]
   },
   "outputs": [
    {
     "data": {
      "text/latex": [
       "$\\displaystyle 0.333333333333333$"
      ],
      "text/plain": [
       "0.333333333333333"
      ]
     },
     "execution_count": 31,
     "metadata": {},
     "output_type": "execute_result"
    }
   ],
   "source": [
    "A_4A"
   ]
  },
  {
   "cell_type": "code",
   "execution_count": 32,
   "id": "a1f655ba-401a-4a78-a0fb-a5497e5ac3b4",
   "metadata": {
    "slideshow": {
     "slide_type": "fragment"
    }
   },
   "outputs": [],
   "source": [
    "A_4B = integrate(f-g,(x,a,b))"
   ]
  },
  {
   "cell_type": "code",
   "execution_count": 33,
   "id": "97cfb3af-c215-41ff-8606-7ce28b66d89a",
   "metadata": {
    "slideshow": {
     "slide_type": "fragment"
    },
    "tags": [
     "hide-output"
    ]
   },
   "outputs": [
    {
     "data": {
      "text/latex": [
       "$\\displaystyle 4.875$"
      ],
      "text/plain": [
       "4.87500000000000"
      ]
     },
     "execution_count": 33,
     "metadata": {},
     "output_type": "execute_result"
    }
   ],
   "source": [
    "A_4B"
   ]
  },
  {
   "cell_type": "code",
   "execution_count": 34,
   "id": "a91238f9-1452-4f8d-a185-2f34d5e14f3a",
   "metadata": {
    "slideshow": {
     "slide_type": "fragment"
    }
   },
   "outputs": [],
   "source": [
    "A4x = A_4A + A_4B"
   ]
  },
  {
   "cell_type": "markdown",
   "id": "dc511cf4-7e95-46db-922f-58a64620f8b0",
   "metadata": {
    "slideshow": {
     "slide_type": "fragment"
    }
   },
   "source": [
    "The Area between $f(x) = \\pm \\sqrt{4x}$ and $g(x) = \\frac{4(x-1)}{3}$ between $x =0.25$ and $x = 4$ is:"
   ]
  },
  {
   "cell_type": "code",
   "execution_count": 35,
   "id": "a2241d67-00dd-40ba-8ad3-889e39d501c7",
   "metadata": {
    "slideshow": {
     "slide_type": "fragment"
    },
    "tags": [
     "hide-output",
     "remove-input"
    ]
   },
   "outputs": [
    {
     "data": {
      "text/latex": [
       "$\\displaystyle 5.20833333333333$"
      ],
      "text/plain": [
       "5.20833333333333"
      ]
     },
     "execution_count": 35,
     "metadata": {},
     "output_type": "execute_result"
    }
   ],
   "source": [
    "A4x"
   ]
  },
  {
   "cell_type": "markdown",
   "id": "9a02740a-633c-4223-afc6-f5f264b4c0e7",
   "metadata": {
    "slideshow": {
     "slide_type": "fragment"
    },
    "tags": [
     "hide-output",
     "hide-input"
    ]
   },
   "source": [
    "or, equivalently,\n",
    "\n",
    "$$\n",
    "\\frac{125}{24}.\n",
    "$$"
   ]
  },
  {
   "cell_type": "markdown",
   "id": "8749ffc9-2756-429b-8fe8-eb3f3883d331",
   "metadata": {
    "slideshow": {
     "slide_type": "fragment"
    }
   },
   "source": [
    "Phew! This was a bit painful, is there a faster way?"
   ]
  },
  {
   "cell_type": "markdown",
   "id": "a9538c03-ff9e-44d2-a4a1-63a0d5414db7",
   "metadata": {
    "slideshow": {
     "slide_type": "skip"
    },
    "tags": []
   },
   "source": [
    "<div class=\"page_break\"> </div>"
   ]
  },
  {
   "cell_type": "markdown",
   "id": "e9b28ac4-6175-41bb-86b9-ccd58c1b5c8c",
   "metadata": {
    "slideshow": {
     "slide_type": "subslide"
    }
   },
   "source": [
    "### Option 2: Integrate over $y$ (the quick way!)"
   ]
  },
  {
   "cell_type": "markdown",
   "id": "8aa9bb00-c8e5-4bb6-84fb-f36052b20fb3",
   "metadata": {
    "slideshow": {
     "slide_type": "fragment"
    }
   },
   "source": [
    "Looking at the sketch, it looks like we can also integrate over $y$, with horizontal rectangles.\n",
    "\n",
    "<img src=\"images/curve1v2_horiz.png\">"
   ]
  },
  {
   "cell_type": "markdown",
   "id": "60754e21-0f77-4687-b58e-5eaad5e2cf3f",
   "metadata": {
    "slideshow": {
     "slide_type": "fragment"
    }
   },
   "source": [
    "The advantage of integrating over $y$, is that our integral is quite simple, because the parabola $f(x)$ is greater than $g(x)$ within our domain of interest ($x=0.25$ and $x=4$).\n",
    "\n",
    "With a bit of algebra, we can rearrange $f(x)$ and $g(x)$ to write $f(y)$ and $g(y)$:\n",
    "\n",
    "$$\n",
    "f(y) = \\frac{y^2}{4}\n",
    "$$\n",
    "\n",
    "and,\n",
    "\n",
    "$$\n",
    "g(y) = \\frac{3y}{4} + 1.\n",
    "$$"
   ]
  },
  {
   "cell_type": "markdown",
   "id": "6f12f3da-d720-420f-b9ff-5f0739d51c62",
   "metadata": {
    "slideshow": {
     "slide_type": "fragment"
    }
   },
   "source": [
    "Since we are interested in the area between $f(x)$ and $g(x)$, the curves are bounded by the $(x,y)$ points $(a,c)$ on the left, and $(b,d)$ on the right.\n",
    "We already know $a$ and $b$, what remains is to determine $c$ and $d$, the $y$-coordinates at the intersection points.\n",
    "\n",
    "$$\n",
    "A_{4y} = \\int_c^{d} (g(y)-f(y))dy\n",
    "$$"
   ]
  },
  {
   "cell_type": "markdown",
   "id": "c250d370-c9ea-4142-948d-a00527a213ec",
   "metadata": {
    "slideshow": {
     "slide_type": "fragment"
    }
   },
   "source": [
    "Because our bounds are at the points where $f(y)$ and $g(y)$ intersect, we're in luck and we can use either function to determine the corresponding $y$-values $c$ and $d$.\n",
    "\n",
    "Let's use $g(x)$:\n",
    "\n",
    "$$\n",
    "g(x) = \\frac{4(x-1)}{3}.\n",
    "$$\n",
    "\n",
    "Substituting in $a=0.25$ on the left side,\n",
    "$$\n",
    "c = g(0.25) = \\frac{4(0.25-1)}{3} + 1\n",
    "$$\n",
    "\n",
    "we get $c = -1$."
   ]
  },
  {
   "cell_type": "markdown",
   "id": "c78645bc-d23b-4aa6-9598-9caa204fc597",
   "metadata": {
    "slideshow": {
     "slide_type": "fragment"
    }
   },
   "source": [
    "On the right side,\n",
    "\n",
    "$$\n",
    "d = g(b)\n",
    "$$\n",
    "\n",
    "Substituting in $b=4$,\n",
    "$$\n",
    "d = \\frac{4(4-1)}{3}\n",
    "$$\n",
    "\n",
    "we get $d = 4$."
   ]
  },
  {
   "cell_type": "markdown",
   "id": "657fb713-323b-4680-aeb6-9879b9ee0009",
   "metadata": {
    "slideshow": {
     "slide_type": "subslide"
    }
   },
   "source": [
    "Now that we have the limits of the $y$-integration, we can complete the integral:\n",
    "\n",
    "$$\n",
    "A_{4y} = \\int_{c=-1}^{d=4} (f(y) - g(y)) dy\n",
    "$$"
   ]
  },
  {
   "cell_type": "code",
   "execution_count": 36,
   "id": "ae329218-3d31-4237-9241-c313f83d94ec",
   "metadata": {
    "slideshow": {
     "slide_type": "fragment"
    }
   },
   "outputs": [],
   "source": [
    "c = -1\n",
    "d = 4\n",
    "\n",
    "f_y = y**2/4\n",
    "g_y = 3*y/4 + 1\n",
    "\n",
    "A_4y = integrate(g_y-f_y,(y,c,d))"
   ]
  },
  {
   "cell_type": "markdown",
   "id": "82a101a4-17c7-4715-ba6c-8f47bd970113",
   "metadata": {
    "slideshow": {
     "slide_type": "fragment"
    }
   },
   "source": [
    "The Area between $f(y) = \\frac{y^2}{4}$ and $g(y) = \\frac{3y}{4} + 1$ between $y = -1$ and $y = 4$ is:"
   ]
  },
  {
   "cell_type": "code",
   "execution_count": 37,
   "id": "ca658315-362d-4a9f-a56e-f8d355189847",
   "metadata": {
    "slideshow": {
     "slide_type": "fragment"
    },
    "tags": [
     "hide-output",
     "remove-input"
    ]
   },
   "outputs": [
    {
     "data": {
      "text/latex": [
       "$\\displaystyle \\frac{125}{24}$"
      ],
      "text/plain": [
       "125/24"
      ]
     },
     "execution_count": 37,
     "metadata": {},
     "output_type": "execute_result"
    }
   ],
   "source": [
    "A_4y"
   ]
  },
  {
   "cell_type": "markdown",
   "id": "8bbfaef8-17f2-4b13-95a4-539f77f7b92a",
   "metadata": {
    "slideshow": {
     "slide_type": "fragment"
    }
   },
   "source": [
    "Great! As expceted, it's the same answer as we got if we integrated over $x$ instead of $y$.\n",
    "A little bit less painful, but required a bit of foresight and a good sketch of the functions!"
   ]
  },
  {
   "cell_type": "markdown",
   "id": "0bd8f6e2-f408-44fa-bcd7-837a2fc7e86f",
   "metadata": {
    "slideshow": {
     "slide_type": "subslide"
    }
   },
   "source": [
    "Let's update our Strategy one last time given what we just discovered...\n",
    "\n",
    "```{admonition} Strategy\n",
    ":class: tip\n",
    "\n",
    "1. Roughly sketch the curves $f(x)$ and $g(x)$.\n",
    "\n",
    "2. Determine the domain of interest; usually by setting $f(x) = g(x)$ and solving for the roots. Though, other operations may be needed as well depending on the question.\n",
    "\n",
    "3. **Decide if it is easier to integrate over $x$ (vertical rectangles) or $y$ (horizontal rectangles). If integrating over $y$, determine $f(y)$ and $g(y)$, and the *ranges* of interest (instead of the domains, if integrating over $x$).**\n",
    "\n",
    "4. Given $f(x)$ and $g(x)$ (**or $f(y)$ and $g(y)$**), determine which function is greater within the domain(s) (**or range(s)**) of interest. If the curves cross, split the integral so each segment is considered separately.\n",
    "\n",
    "    **Below this, if integrating over $y$, replace $f(x)$ with $f(y)$, $dx$ with $dy$, etc...**\n",
    "\n",
    "5. Region 1: Assuming $f(x)$ is greater in region 1, integrate $f(x) - g(x)$ from $x=a$ to $x=b$. \n",
    "\n",
    "    $$\n",
    "    A_1 = \\int_a^b f(x) - g(x) dx\n",
    "    $$\n",
    "\n",
    "6. Region 2: If there are one or more function crosses, there will be multiple segments to integrate. Now, $g(x)$ will be greater in region 2, so determine $A_2$:\n",
    "\n",
    "    $$\n",
    "    A_2 = \\int_c^d g(x) - f(x) dx\n",
    "    $$\n",
    "\n",
    "7. Compute integrals of each segment and after after each cross. Add all the area segments together:\n",
    "\n",
    "    $$\n",
    "    A_{total} = A_1 + A_2 +... A_N\n",
    "    $$\n",
    "```"
   ]
  },
  {
   "cell_type": "markdown",
   "id": "f3e9a3f7-eeca-4943-996b-c5cec95f897e",
   "metadata": {
    "slideshow": {
     "slide_type": "skip"
    },
    "tags": []
   },
   "source": [
    "<div class=\"page_break\"> </div>"
   ]
  },
  {
   "cell_type": "markdown",
   "id": "3bb67c14-7cc6-4646-b47f-d04a12718b30",
   "metadata": {
    "slideshow": {
     "slide_type": "skip"
    }
   },
   "source": [
    "<div class=\"page_break\"> </div>"
   ]
  },
  {
   "cell_type": "markdown",
   "id": "dc2ef8ac-4b01-4371-9199-f27256dee663",
   "metadata": {
    "slideshow": {
     "slide_type": "slide"
    }
   },
   "source": [
    "## Summary"
   ]
  },
  {
   "cell_type": "markdown",
   "id": "f5c84210",
   "metadata": {
    "slideshow": {
     "slide_type": "fragment"
    }
   },
   "source": [
    "1. Extending definition of \"Area under curve\" between $f(x)$ and $y=0$, to determine area between $f(x)$ and $g(x)$."
   ]
  },
  {
   "cell_type": "markdown",
   "id": "ffd09bde",
   "metadata": {
    "slideshow": {
     "slide_type": "fragment"
    }
   },
   "source": [
    "2. Discussing income inequality and a practical application of computing area between curves."
   ]
  },
  {
   "cell_type": "markdown",
   "id": "10e7a24b",
   "metadata": {
    "slideshow": {
     "slide_type": "fragment"
    }
   },
   "source": [
    "3. Mechanics of computing areas between curves, including determining intersection points and the domain or range of integration."
   ]
  },
  {
   "cell_type": "markdown",
   "id": "144c3b76",
   "metadata": {
    "slideshow": {
     "slide_type": "fragment"
    }
   },
   "source": [
    "4. Consideration 1: Does it matter which function is greater?"
   ]
  },
  {
   "cell_type": "markdown",
   "id": "a29c1c03",
   "metadata": {
    "slideshow": {
     "slide_type": "fragment"
    }
   },
   "source": [
    "5. Consideration 2: Solving problems where the functions intersect."
   ]
  },
  {
   "cell_type": "markdown",
   "id": "f8e1a460",
   "metadata": {
    "slideshow": {
     "slide_type": "fragment"
    }
   },
   "source": [
    "6. Consideration 3: What if the functions cross, and the \"greater function\" changes?"
   ]
  },
  {
   "cell_type": "markdown",
   "id": "765a970a",
   "metadata": {
    "slideshow": {
     "slide_type": "fragment"
    }
   },
   "source": [
    "7. Consideration 4: Should we integrate over $x$, or over $y$?"
   ]
  },
  {
   "cell_type": "markdown",
   "id": "37cfeab7",
   "metadata": {
    "slideshow": {
     "slide_type": "fragment"
    }
   },
   "source": [
    "8. Development of working strategy..."
   ]
  },
  {
   "cell_type": "markdown",
   "id": "d5d5e878-c6d7-48dc-a8c3-bb222d4cfed8",
   "metadata": {
    "slideshow": {
     "slide_type": "subslide"
    }
   },
   "source": [
    "Here is the final strategy that we created together to solve area between curve problems.\n",
    "\n",
    "*Note: You will need to add or revise this strategy as you learn more skills and tricks, and become more familiar with the mechanics of doing integrals!*"
   ]
  },
  {
   "cell_type": "markdown",
   "id": "a23d5d74",
   "metadata": {
    "slideshow": {
     "slide_type": "fragment"
    }
   },
   "source": [
    "```{admonition} Strategy\n",
    ":class: tip\n",
    "\n",
    "1. Roughly sketch the curves $f(x)$ and $g(x)$.\n",
    "\n",
    "2. Determine the domain of interest; usually by setting $f(x) = g(x)$ and solving for the roots. Though, other operations may be needed as well depending on the question.\n",
    "\n",
    "3. **Decide if it is easier to integrate over $x$ (vertical rectangles) or $y$ (horizontal rectangles). If integrating over $y$, determine $f(y)$ and $g(y)$, and the *ranges* of interest (instead of the domains, if integrating over $x$).**\n",
    "\n",
    "4. Given $f(x)$ and $g(x)$ (**or $f(y)$ and $g(y)$**), determine which function is greater within the domain(s) (**or range(s)**) of interest. If the curves cross, split the integral so each segment is considered separately.\n",
    "\n",
    "    **Below this, if integrating over $y$, replace $f(x)$ with $f(y)$, $dx$ with $dy$, etc...**\n",
    "\n",
    "5. Region 1: Assuming $f(x)$ is greater in region 1, integrate $f(x) - g(x)$ from $x=a$ to $x=b$. \n",
    "\n",
    "    $$\n",
    "    A_1 = \\int_a^b f(x) - g(x) dx\n",
    "    $$\n",
    "\n",
    "6. Region 2: If there are one or more function crosses, there will be multiple segments to integrate. Now, $g(x)$ will be greater in region 2, so determine $A_2$:\n",
    "\n",
    "    $$\n",
    "    A_2 = \\int_c^d g(x) - f(x) dx\n",
    "    $$\n",
    "\n",
    "7. Compute integrals of each segment and after after each cross. Add all the area segments together:\n",
    "\n",
    "    $$\n",
    "    A_{total} = A_1 + A_2 +... A_N\n",
    "    $$\n",
    "```"
   ]
  },
  {
   "cell_type": "markdown",
   "id": "0d56d236-60f4-4d0b-ac7c-d4f190cdf213",
   "metadata": {
    "slideshow": {
     "slide_type": "subslide"
    }
   },
   "source": [
    "## You Try!\n",
    "\n",
    "Your post-class activity is to solve this problem. \n",
    "\n",
    "### Example I.4\n",
    "\n",
    "```{admonition} Example I.2\n",
    ":class: seealso\n",
    "Find the area of the region bounded by the curves $y=\\sin x$, $y=\\cos x$, $x=0$, and $x=\\pi /2$.\n",
    "\n",
    "<img src=\"images/curve3v3.png\" class=\"center\" width=100%>\n",
    "```\n",
    "*Hint, the answer is not 0!*"
   ]
  },
  {
   "cell_type": "markdown",
   "id": "b7799316-471c-43bf-8d95-93b1a8fae967",
   "metadata": {
    "slideshow": {
     "slide_type": "subslide"
    }
   },
   "source": [
    "Thanks for your time and attention today!\n",
    "\n",
    "- Dr. Moosvi"
   ]
  }
 ],
 "metadata": {
  "celltoolbar": "Slideshow",
  "kernelspec": {
   "display_name": "Python 3 (ipykernel)",
   "language": "python",
   "name": "python3"
  },
  "language_info": {
   "codemirror_mode": {
    "name": "ipython",
    "version": 3
   },
   "file_extension": ".py",
   "mimetype": "text/x-python",
   "name": "python",
   "nbconvert_exporter": "python",
   "pygments_lexer": "ipython3",
   "version": "3.9.7"
  }
 },
 "nbformat": 4,
 "nbformat_minor": 5
}
