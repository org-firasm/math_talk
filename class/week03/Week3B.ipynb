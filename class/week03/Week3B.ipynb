{
 "cells": [
  {
   "cell_type": "markdown",
   "id": "350c1370-94ed-4fe0-bfec-3a0920e5829a",
   "metadata": {},
   "source": [
    "<!DOCTYPE html>\n",
    "<html>\n",
    "<head>\n",
    "  <link rel=\"stylesheet\" href=\"layout.css\">\n",
    "</head>"
   ]
  },
  {
   "cell_type": "code",
   "execution_count": null,
   "id": "614bb5e7-10b4-4e0e-b3a8-870f291b0224",
   "metadata": {},
   "outputs": [],
   "source": []
  },
  {
   "cell_type": "markdown",
   "id": "aab8826e-874b-4bf6-8788-0c2223bd3628",
   "metadata": {},
   "source": [
    "# Areas between curves\n",
    "**([Syllabus Unit 3](https://canvas.ubc.ca/courses/92840/syllabus) | [CLP2 Chapter 1.5](https://personal.math.ubc.ca/~CLP/CLP2/))**\n",
    "\n"
   ]
  },
  {
   "cell_type": "markdown",
   "id": "ffd39d0b-ca35-4d6e-b208-9d00978bcb6c",
   "metadata": {},
   "source": [
    "## Introduction\n",
    "\n",
    "**Recall**: If $f$ is integrable and $f \\geq 0$ on the interval $[a,b]$,\n",
    "\n",
    "\\begin{align}\n",
    "\\int_{a}^{b}f(x) dx= A,\n",
    "\\end{align}\n",
    "\n",
    "this Area $A$, lies above $y=0$ and below $y=f(x)$, in the vertical strip $a\\le x\\le b.$\n",
    "\n",
    "**Today**: Extend this to a more general situation, replacing the $x$-axis ($y=0$) with a general lower boundary $y=g(x)$. Setting $g(x)=0$ will recapture the original definition.\n",
    "\n",
    "<img src=\"images/enc1.png\" class=\"center\" width=\"100%\">\n",
    "\n",
    "Leibniz-style shorthand: \n",
    "\n",
    "$A = \\int\\!dA$, with $dA = (f(x)-g(x))\\,dx$ over $a\\leq x\\leq b$."
   ]
  },
  {
   "cell_type": "markdown",
   "id": "6863cec1-9bec-4811-8094-989559dae2d0",
   "metadata": {},
   "source": [
    "## Careful Riemann-sum setup"
   ]
  },
  {
   "cell_type": "markdown",
   "id": "4e304c2a-b438-493b-b215-abfb4cd0756b",
   "metadata": {},
   "source": [
    "Activity: https://www.geogebra.org/m/y6p3qybd\n",
    "\n",
    "Other option: https://www.geogebra.org/m/QvhVvGZP"
   ]
  },
  {
   "cell_type": "markdown",
   "id": "146b1bbe-86ee-449c-a249-f24bf957cc4e",
   "metadata": {},
   "source": [
    "## Consideration 1: Which curve is higher?"
   ]
  },
  {
   "cell_type": "code",
   "execution_count": null,
   "id": "38944d0e-116b-4c88-a3d0-bacdcb4eae0e",
   "metadata": {},
   "outputs": [],
   "source": []
  },
  {
   "cell_type": "code",
   "execution_count": null,
   "id": "2bdbc22d-786f-4173-971a-cae2b639da44",
   "metadata": {},
   "outputs": [],
   "source": []
  },
  {
   "cell_type": "markdown",
   "id": "ac33ac15-87d0-41b7-92e1-ee040965a207",
   "metadata": {},
   "source": [
    "## Consideration 2: What if the functions intersect?\n",
    "\n",
    "What if the curves $y=f(x)$ and $y=g(x)$ cross somewhere in the given interval?\n",
    "\n",
    "*Hint*: Remember that “area” is always a positive quantity!"
   ]
  },
  {
   "cell_type": "markdown",
   "id": "1fb69b57-8a6f-4b29-917f-285861715da3",
   "metadata": {
    "tags": []
   },
   "source": [
    "### Example I.1\n",
    "\n",
    "```{admonition} Example I.1\n",
    ":class: seealso\n",
    "Compute the finite area between the curves $f(x)= x+2$ and $g(x)=x^2-4$.\n",
    "\n",
    "<img src=\"images/curve2.png\" class=\"center\" width=100%>\n",
    "```\n"
   ]
  },
  {
   "cell_type": "markdown",
   "id": "4ba43c14-cbd2-4fcf-9816-7952e7feb78e",
   "metadata": {},
   "source": [
    "## Consideration 3: What if the functions cross?"
   ]
  },
  {
   "cell_type": "markdown",
   "id": "dc2ef8ac-4b01-4371-9199-f27256dee663",
   "metadata": {},
   "source": [
    "### Example I.2\n",
    "\n",
    "```{admonition} Example I.2\n",
    ":class: seealso\n",
    "Find the area of the region bounded by the curves $y=\\sin x$, $y=\\cos x$, $x=0$, and $x=\\pi /2$.\n",
    "\n",
    "<img src=\"images/curve3v2.png\" class=\"center\" width=100%>\n",
    "```"
   ]
  },
  {
   "cell_type": "code",
   "execution_count": null,
   "id": "dce0b025-be0f-4ae8-8ff0-6a939d03bded",
   "metadata": {},
   "outputs": [],
   "source": []
  },
  {
   "cell_type": "markdown",
   "id": "c622b96d-af12-48c2-888f-4c9a6a4cb6d4",
   "metadata": {},
   "source": [
    "## Consideration 4: Integrate over $x$, or over $y$?"
   ]
  },
  {
   "cell_type": "markdown",
   "id": "771f1f09-fc5f-43c8-b332-a571a8c3fb2e",
   "metadata": {
    "tags": []
   },
   "source": [
    "When the upper or lower boundary curve has a piecewise definition, creative geometry-inspired thinking can offer an efficient new approach. Here is an example.\n",
    "\n",
    "### Example I.3\n",
    "\n",
    "```{admonition} Example I.1\n",
    ":class: seealso\n",
    "Find the finite area between the curves $y^2= 4x$ and $4x-3y=4$.\n",
    "\n",
    "<img src=\"images/curve1.png\" class=\"center\" width=100%>\n",
    "```\n",
    "\n",
    "\n"
   ]
  },
  {
   "cell_type": "code",
   "execution_count": null,
   "id": "091a4819-fa20-4c2f-8392-8ad25f908160",
   "metadata": {},
   "outputs": [],
   "source": []
  },
  {
   "cell_type": "markdown",
   "id": "57784f96-59e1-403a-822b-fe1b05491794",
   "metadata": {},
   "source": []
  },
  {
   "cell_type": "code",
   "execution_count": null,
   "id": "0530a1d0-2769-4813-8f2f-912b68abf065",
   "metadata": {},
   "outputs": [],
   "source": []
  },
  {
   "cell_type": "code",
   "execution_count": null,
   "id": "9a3d39dd-c349-4feb-a268-0961741b337f",
   "metadata": {},
   "outputs": [],
   "source": []
  },
  {
   "cell_type": "code",
   "execution_count": null,
   "id": "dd4c3290-0a53-42b0-8990-b2e51f3f5eb1",
   "metadata": {},
   "outputs": [],
   "source": []
  }
 ],
 "metadata": {
  "kernelspec": {
   "display_name": "Python 3 (ipykernel)",
   "language": "python",
   "name": "python3"
  },
  "language_info": {
   "codemirror_mode": {
    "name": "ipython",
    "version": 3
   },
   "file_extension": ".py",
   "mimetype": "text/x-python",
   "name": "python",
   "nbconvert_exporter": "python",
   "pygments_lexer": "ipython3",
   "version": "3.9.7"
  }
 },
 "nbformat": 4,
 "nbformat_minor": 5
}
